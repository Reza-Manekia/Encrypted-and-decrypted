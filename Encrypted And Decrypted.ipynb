{
 "cells": [
  {
   "cell_type": "code",
   "execution_count": 3,
   "id": "1818c15f",
   "metadata": {},
   "outputs": [],
   "source": [
    "plain_alphabet = \"abcdefghijklmnopqrstuvwxyz\"\n",
    "Cipher_alphabet = \"phqgiumeaylnofdxjkrcvstzwb\"\n",
    "special_characters = ['–','*','!','+']\n",
    "plain_alphabet.split()\n",
    "Cipher_alphabet.split()\n",
    "\n",
    "dict = {}\n",
    "for i in range(26):\n",
    "    dict[plain_alphabet[i]] = Cipher_alphabet[i] \n",
    "\n",
    "def encrypt(unencrypted_item):\n",
    "    result = \"\"\n",
    "    for i in unencrypted_item:\n",
    "        result+= dict[i]\n",
    "    return result\n",
    "def r_encrypt(encrypted_item):\n",
    "    result = \"\"\n",
    "    for i in encrypted_item:\n",
    "        for n in dict:\n",
    "            if dict[n] == i:\n",
    "                result += n\n",
    "                break\n",
    "    return result\n"
   ]
  }
 ],
 "metadata": {
  "kernelspec": {
   "display_name": "Python 3 (ipykernel)",
   "language": "python",
   "name": "python3"
  },
  "language_info": {
   "codemirror_mode": {
    "name": "ipython",
    "version": 3
   },
   "file_extension": ".py",
   "mimetype": "text/x-python",
   "name": "python",
   "nbconvert_exporter": "python",
   "pygments_lexer": "ipython3",
   "version": "3.9.12"
  }
 },
 "nbformat": 4,
 "nbformat_minor": 5
}
